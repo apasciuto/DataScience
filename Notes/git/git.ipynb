{
 "cells": [
  {
   "cell_type": "markdown",
   "metadata": {},
   "source": [
    "Title: Git  \n",
    "Date: 2016-05-01 12:00  \n",
    "Category: bash  \n",
    "Tags:  \n",
    "Slug: git  \n",
    "Summary: "
   ]
  },
  {
   "cell_type": "markdown",
   "metadata": {},
   "source": [
    "### Introduction To Git"
   ]
  },
  {
   "cell_type": "code",
   "execution_count": null,
   "metadata": {
    "collapsed": true
   },
   "outputs": [],
   "source": [
    "## 1. Version control systems ##\n",
    "/home/dq/random_numbers$ git init\n",
    "\n",
    "## 2. The .git folder ##\n",
    "/home/dq/random_numbers$ ls -al\n",
    "\n",
    "## 3. Creating some files ##\n",
    "/home/dq/random_numbers$ echo -e 'if __name__ == \"__main__\":\\n print(\"10\")' >\n",
    "\n",
    "## 4. Git status ##\n",
    "/home/dq/random_numbers$ git add README.md\n",
    "\n",
    "## 5. Configuring git ##\n",
    "/home/dq/random_numbers$ git config --global user.name \"Dataquest User\"\n",
    "\n",
    "## 6. Committing ##\n",
    "/home/dq/random_numbers$ git commit -m \"Initial commit. Added script.py and REA\n",
    "\n",
    "## 7. File differences ##\n",
    "/home/dq/random_numbers$ git status\n",
    "\n",
    "## 8. Making a second commit ##\n",
    "/home/dq/random_numbers$ git commit -m \"Made the numbers random\"\n",
    "\n",
    "## 9. Looking at the commit history ##\n",
    "/home/dq/random_numbers$ git log\n",
    "\n",
    "## 10. Seeing commit differences ##\n",
    "/home/dq/random_numbers$ git log --stat"
   ]
  },
  {
   "cell_type": "markdown",
   "metadata": {},
   "source": [
    "### Git Remotes"
   ]
  },
  {
   "cell_type": "code",
   "execution_count": null,
   "metadata": {
    "collapsed": true
   },
   "outputs": [],
   "source": [
    "## 1. Git remotes ##\n",
    "/home/dq$ git clone /dataquest/user/git/chatbot\n",
    "\n",
    "## 2. Making changes to cloned repositories ##\n",
    "/home/dq/chatbot$ git commit -m \"Updated README.md\"\n",
    "\n",
    "## 3. The master branch ##\n",
    "/home/dq/chatbot$ git branch\n",
    "\n",
    "## 4. Pushing changes to the remote ##\n",
    "/home/dq/chatbot$ git push origin master\n",
    "\n",
    "## 5. Viewing individual commits ##\n",
    "/home/dq/chatbot$ git show $HASH -q\n",
    "\n",
    "## 6. Commits and the working directory ##\n",
    "/home/dq/chatbot$ git --no-pager diff $HASH2 $HASH\n",
    "\n",
    "## 7. Switching to a specific commit ##\n",
    "/home/dq/chatbot$ git reset --hard $HASH\n",
    "\n",
    "## 8. Pulling from a remote repo ##\n",
    "/home/dq/chatbot$ git pull\n",
    "\n",
    "## 9. Referring to the most recent commit ##\n",
    "/home/dq/chatbot$ git rev-parse HEAD"
   ]
  },
  {
   "cell_type": "markdown",
   "metadata": {},
   "source": [
    "### Git Branches"
   ]
  },
  {
   "cell_type": "code",
   "execution_count": null,
   "metadata": {
    "collapsed": true
   },
   "outputs": [],
   "source": [
    "## 1. Git branches ##\n",
    "/home/dq/chatbot$ git checkout -b more-speech\n",
    "\n",
    "## 2. Switching branches ##\n",
    "/home/dq/chatbot$ git commit -m \"Added more output\"\n",
    "\n",
    "## 3. Pushing a branch to a remote ##\n",
    "/home/dq/chatbot$ git push origin more-speech\n",
    "\n",
    "## 4. Merging branches ##\n",
    "/home/dq/chatbot$ git push origin master\n",
    "\n",
    "## 5. Deleting branches ##\n",
    "/home/dq/chatbot$ git branch -d more-speech\n",
    "\n",
    "## 6. Checking out branches from the remote ##\n",
    "/home/dq/chatbot$ python bot.py\n",
    "\n",
    "## 7. Finding differences across branches ##\n",
    "/home/dq/chatbot$ git --no-pager diff master happy-bot\n",
    "\n",
    "## 8. Branch naming conventions ##\n",
    "/home/dq/chatbot$ git push origin feature/random-messages\n",
    "\n",
    "## 9. Branch history ##\n",
    "/home/dq/chatbot$ git checkout -b feature/spam-messages"
   ]
  },
  {
   "cell_type": "markdown",
   "metadata": {},
   "source": [
    "### Merge Conflicts"
   ]
  },
  {
   "cell_type": "code",
   "execution_count": null,
   "metadata": {
    "collapsed": true
   },
   "outputs": [],
   "source": [
    "## 1. Merge conflicts ##\n",
    "/home/dq/chatbot$ git merge feature/queen-bot\n",
    "\n",
    "## 2. Aborting a merge ##\n",
    "/home/dq/chatbot$ git merge --abort\n",
    "\n",
    "## 3. Fixing the conflicts ##\n",
    "/home/dq/chatbot$ git push origin master\n",
    "\n",
    "## 4. Multi-line conflicts ##\n",
    "/home/dq/chatbot$ git push origin master\n",
    "\n",
    "## 5. Multiple conflicts ##\n",
    "/home/dq/chatbot$ git push origin master\n",
    "\n",
    "## 6. Accepting changes from only one branch ##\n",
    "/home/dq/chatbot$ git push origin master\n",
    "\n",
    "## 7. Ignoring files ##\n",
    "/home/dq/chatbot$ git push origin master\n",
    "\n",
    "## 8. Removing cached files ##\n",
    "/home/dq/chatbot$ git push origin master"
   ]
  }
 ],
 "metadata": {
  "kernelspec": {
   "display_name": "Python [default]",
   "language": "python",
   "name": "python3"
  },
  "language_info": {
   "codemirror_mode": {
    "name": "ipython",
    "version": 3
   },
   "file_extension": ".py",
   "mimetype": "text/x-python",
   "name": "python",
   "nbconvert_exporter": "python",
   "pygments_lexer": "ipython3",
   "version": "3.5.2"
  }
 },
 "nbformat": 4,
 "nbformat_minor": 2
}
