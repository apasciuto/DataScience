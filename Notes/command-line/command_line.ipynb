{
 "cells": [
  {
   "cell_type": "markdown",
   "metadata": {},
   "source": [
    "Title: Command Line  \n",
    "Date: 2016-05-01 12:00  \n",
    "Category: Command Line  \n",
    "Tags:  \n",
    "Slug: command_line  \n",
    "Summary:   "
   ]
  },
  {
   "cell_type": "markdown",
   "metadata": {},
   "source": [
    "### Change Text Editor"
   ]
  },
  {
   "cell_type": "code",
   "execution_count": null,
   "metadata": {
    "collapsed": true
   },
   "outputs": [],
   "source": [
    "$ export EDITOR=\"/Applications/Visual\\ Studio\\ Code.app/Contents/MacOS/Electron -nw\""
   ]
  },
  {
   "cell_type": "markdown",
   "metadata": {},
   "source": [
    "### Command Line Basics"
   ]
  },
  {
   "cell_type": "code",
   "execution_count": null,
   "metadata": {
    "collapsed": true
   },
   "outputs": [],
   "source": [
    "## 1. Introduction ##\n",
    "/home/dq$ pwd\n",
    "\n",
    "## 2. Filesystem ##\n",
    "/home/dq$ cd /\n",
    "\n",
    "## 3. Absolute vs relative paths ##\n",
    "/$ cd home\n",
    "\n",
    "## 4. Getting back to the dq folder ##\n",
    "/home$ cd dq\n",
    "\n",
    "## 5. Users ##\n",
    "/home/dq$ whoami\n",
    "\n",
    "## 6. The home directory ##\n",
    "/$ cd ~\n",
    "\n",
    "## 7. Making a directory ##\n",
    "/home/dq$ mkdir test\n",
    "\n",
    "## 8. Command options ##\n",
    "/home/dq$ mkdir -v test2\n",
    "\n",
    "## 9. Checking possible options ##\n",
    "/home/dq$ mkdir --help\n",
    "\n",
    "## 10. Listing the contents of a directory ##\n",
    "/home/dq$ ls -l\n",
    "\n",
    "## 11. Removing a directory ##\n",
    "/home/dq$ rmdir test2"
   ]
  },
  {
   "cell_type": "markdown",
   "metadata": {},
   "source": [
    "### Working With The Command Line"
   ]
  },
  {
   "cell_type": "code",
   "execution_count": null,
   "metadata": {
    "collapsed": true
   },
   "outputs": [],
   "source": [
    "## 1. Exploring the file system ##\n",
    "/home/dq$ ls -l\n",
    "\n",
    "## 2. Moving problematic files to a separate folder ##\n",
    "/home/dq$ mv /home/dq/legislators /home/dq/problematic/legislators\n",
    "\n",
    "## 3. Fixing file extensions ##\n",
    "/home/dq/problematic$ ls -l\n",
    "\n",
    "## 4. Consolidating files ##\n",
    "/home/dq$ mv problematic/ csv_datasets/\n",
    "\n",
    "## 5. Restricting permissions ##\n",
    "/home/dq$ ls -l"
   ]
  },
  {
   "cell_type": "markdown",
   "metadata": {},
   "source": [
    "### Navigating Through The Command Line"
   ]
  },
  {
   "cell_type": "code",
   "execution_count": 2,
   "metadata": {
    "collapsed": false
   },
   "outputs": [],
   "source": [
    "## 1. Command Line Python ##\n",
    "/home/dq$ pwd\n",
    "\n",
    "## 2. Creating a script ##\n",
    "/home/dq$ echo -e 'import sys\\n\\nif __name__ == \"__main__\":\\n print(sys.argv[\n",
    "\n",
    "## 3. Change file permissions ##\n",
    "/home/dq$ chmod 0700 script.py\n",
    "\n",
    "## 4. Create a virtualenv ##\n",
    "/home/dq$ source script/bin/activate\n",
    "\n",
    "## 5. Move the script ##\n",
    "(script) /home/dq$ mv script.py printer\n",
    "\n",
    "## 6. Execute the script ##\n",
    "(script) /home/dq/printer$ python script.py \"I'm so good at challenges!\""
   ]
  },
  {
   "cell_type": "markdown",
   "metadata": {},
   "source": [
    "### Working With Files"
   ]
  },
  {
   "cell_type": "code",
   "execution_count": null,
   "metadata": {
    "collapsed": true
   },
   "outputs": [],
   "source": [
    "## 1. Making a file ##\n",
    "/home/dq$ touch test.txt\n",
    "\n",
    "## 2. Standard streams ##\n",
    "/home/dq$ echo \"All bears should juggle\"\n",
    "\n",
    "## 3. Redirection ##\n",
    "/home/dq$ echo \"All bears should juggle\" > test.txt\n",
    "\n",
    "## 4. Editing a file ##\n",
    "/home/dq$ nano test.txt\n",
    "\n",
    "## 5. File permissions ##\n",
    "/home/dq$ ls -l\n",
    "\n",
    "## 6. Octal notation ##\n",
    "/home/dq$ stat test.txt\n",
    "\n",
    "## 7. Modifying file permissions ##\n",
    "/home/dq$ chmod 0760 test.txt\n",
    "\n",
    "## 8. Moving files ##\n",
    "/home/dq$ mv test.txt test\n",
    "\n",
    "## 9. Copying files ##\n",
    "/home/dq$ cp /home/dq/test/test.txt /home/dq/test/test2.txt\n",
    "\n",
    "## 10. File extensions ##\n",
    "/home/dq$ mv /home/dq/test/test.txt /home/dq/test/test_no_extension\n",
    "\n",
    "## 11. Deleting a file ##\n",
    "/home/dq$ #\n",
    "\n",
    "## 12. The root user ##\n",
    "/home/dq$ sudo"
   ]
  },
  {
   "cell_type": "markdown",
   "metadata": {},
   "source": [
    "### Command Line Python Scripting"
   ]
  },
  {
   "cell_type": "code",
   "execution_count": null,
   "metadata": {
    "collapsed": true
   },
   "outputs": [],
   "source": [
    "## 1. Command line Python ##\n",
    "/home/dq$ python script.py\n",
    "\n",
    "## 2. Python versions ##\n",
    "/home/dq$ python3 script.py\n",
    "\n",
    "## 3. Installing packages ##\n",
    "/home/dq$ pip install requests\n",
    "\n",
    "## 4. Virtual environments ##\n",
    "/home/dq$ virtualenv python2\n",
    "\n",
    "## 5. Python 3 virtualenv ##\n",
    "/home/dq$ virtualenv -p /usr/bin/python3 python3\n",
    "\n",
    "## 6. Activating a virtualenv ##\n",
    "/home/dq$ source python3/bin/activate\n",
    "\n",
    "## 7. Checking the installed packages ##\n",
    "(python3) /home/dq$ pip freeze\n",
    "\n",
    "## 8. Importing a file ##\n",
    "(python3) /home/dq$ python script.py\n",
    "\n",
    "## 9. Command line arguments ##\n",
    "(python3) /home/dq$ python script.py \"Hello from the command line\"\n",
    "\n",
    "## 10. Deactivating a virtualenv ##\n",
    "(python3) /home/dq$ deactivate"
   ]
  },
  {
   "cell_type": "markdown",
   "metadata": {},
   "source": [
    "### Working With Programs"
   ]
  },
  {
   "cell_type": "code",
   "execution_count": null,
   "metadata": {
    "collapsed": true
   },
   "outputs": [],
   "source": [
    "## 1. Setting variables ##\n",
    "/home/dq$ FOOD=\"Shrimp gumbo\"\n",
    "\n",
    "## 2. Accessing variables ##\n",
    "/home/dq$ echo $FOOD\n",
    "\n",
    "## 3. Environment variables ##\n",
    "/home/dq$ export FOOD=\"Chicken and waffles\"\n",
    "\n",
    "## 4. Accessing environment variables ##\n",
    "/home/dq$ echo $FOOD\n",
    "\n",
    "## 5. Calling programs ##\n",
    "/home/dq$ /usr/bin/python\n",
    "\n",
    "## 6. The PATH variable ##\n",
    "/home/dq$ echo $PATH\n",
    "\n",
    "## 7. Flags ##\n",
    "/home/dq$ ls -l\n",
    "\n",
    "## 8. Combining flags ##\n",
    "/home/dq$ ls -al\n",
    "\n",
    "## 9. Long flags ##\n",
    "/$ ls -al --ignore=.ipython"
   ]
  }
 ],
 "metadata": {
  "kernelspec": {
   "display_name": "Python [default]",
   "language": "python",
   "name": "python3"
  },
  "language_info": {
   "codemirror_mode": {
    "name": "ipython",
    "version": 3
   },
   "file_extension": ".py",
   "mimetype": "text/x-python",
   "name": "python",
   "nbconvert_exporter": "python",
   "pygments_lexer": "ipython3",
   "version": "3.5.2"
  }
 },
 "nbformat": 4,
 "nbformat_minor": 2
}
