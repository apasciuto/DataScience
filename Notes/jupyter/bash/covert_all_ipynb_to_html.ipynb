{
 "cells": [
  {
   "cell_type": "markdown",
   "metadata": {},
   "source": [
    "Title: Convert All Jupyter Notebooks In A Folder To Basic HTML Using Bash  \n",
    "Date: 2016-05-01 12:00  \n",
    "Category: Bash  \n",
    "Tags:  \n",
    "Slug: covert_all_ipynb_to_html  \n",
    "Summary: Convert All Jupyter Notebooks In A Folder To Basic HTML Using Bash  "
   ]
  },
  {
   "cell_type": "markdown",
   "metadata": {},
   "source": [
    "_Note: This code has been commented out. To run the code, remove the comments._"
   ]
  },
  {
   "cell_type": "code",
   "execution_count": 1,
   "metadata": {
    "collapsed": false
   },
   "outputs": [],
   "source": [
    "# %%bash\n",
    "# #!/bin/bash\n",
    "\n",
    "# sets the working directory to the current directory\n",
    "# acd \"$(dirname \"$0\")\"\n",
    "\n",
    "# converts all Jupyter Notebook files to basic html\n",
    "# for f in *.ipynb; do jupyter nbconvert --to html --template basic $f; done"
   ]
  },
  {
   "cell_type": "markdown",
   "metadata": {},
   "source": [
    "### List All Files And Folders In A Directory"
   ]
  },
  {
   "cell_type": "code",
   "execution_count": null,
   "metadata": {
    "collapsed": true
   },
   "outputs": [],
   "source": []
  },
  {
   "cell_type": "code",
   "execution_count": null,
   "metadata": {
    "collapsed": true
   },
   "outputs": [],
   "source": []
  }
 ],
 "metadata": {
  "kernelspec": {
   "display_name": "Python [default]",
   "language": "python",
   "name": "python3"
  },
  "language_info": {
   "codemirror_mode": {
    "name": "ipython",
    "version": 3
   },
   "file_extension": ".py",
   "mimetype": "text/x-python",
   "name": "python",
   "nbconvert_exporter": "python",
   "pygments_lexer": "ipython3",
   "version": "3.5.2"
  }
 },
 "nbformat": 4,
 "nbformat_minor": 0
}
